{
  "nbformat": 4,
  "nbformat_minor": 0,
  "metadata": {
    "colab": {
      "name": "session3.ipynb",
      "provenance": [],
      "authorship_tag": "ABX9TyMfuzuLiqT5SOHr5OEkzsQQ",
      "include_colab_link": true
    },
    "kernelspec": {
      "name": "python3",
      "display_name": "Python 3"
    }
  },
  "cells": [
    {
      "cell_type": "markdown",
      "metadata": {
        "id": "view-in-github",
        "colab_type": "text"
      },
      "source": [
        "<a href=\"https://colab.research.google.com/github/Shakil-1501/S/blob/master/S3/session3.ipynb\" target=\"_parent\"><img src=\"https://colab.research.google.com/assets/colab-badge.svg\" alt=\"Open In Colab\"/></a>"
      ]
    },
    {
      "cell_type": "code",
      "metadata": {
        "id": "JP4v-3OG8sac",
        "colab_type": "code",
        "colab": {
          "base_uri": "https://localhost:8080/",
          "height": 141
        },
        "outputId": "564ffce7-2f5f-47b3-ce53-653b32cae877"
      },
      "source": [
        "!git clone https://github.com/Shakil-1501/S.git"
      ],
      "execution_count": 1,
      "outputs": [
        {
          "output_type": "stream",
          "text": [
            "Cloning into 'S'...\n",
            "remote: Enumerating objects: 103, done.\u001b[K\n",
            "remote: Counting objects: 100% (103/103), done.\u001b[K\n",
            "remote: Compressing objects: 100% (100/100), done.\u001b[K\n",
            "remote: Total 212 (delta 49), reused 0 (delta 0), pack-reused 109\u001b[K\n",
            "Receiving objects: 100% (212/212), 53.00 KiB | 8.83 MiB/s, done.\n",
            "Resolving deltas: 100% (107/107), done.\n"
          ],
          "name": "stdout"
        }
      ]
    },
    {
      "cell_type": "code",
      "metadata": {
        "id": "QKkvVB4w87P-",
        "colab_type": "code",
        "colab": {
          "base_uri": "https://localhost:8080/",
          "height": 34
        },
        "outputId": "3ebc0a2f-f9b8-4f94-f2dd-f06e4be0edf6"
      },
      "source": [
        "!ls"
      ],
      "execution_count": 2,
      "outputs": [
        {
          "output_type": "stream",
          "text": [
            "S  sample_data\n"
          ],
          "name": "stdout"
        }
      ]
    },
    {
      "cell_type": "code",
      "metadata": {
        "id": "S8rwogZP87tL",
        "colab_type": "code",
        "colab": {}
      },
      "source": [
        "import os\n",
        "os.chdir('S/S3')"
      ],
      "execution_count": 3,
      "outputs": []
    },
    {
      "cell_type": "code",
      "metadata": {
        "id": "4ss9qZ-J9GEw",
        "colab_type": "code",
        "colab": {
          "base_uri": "https://localhost:8080/",
          "height": 34
        },
        "outputId": "44dd38e5-8c9b-4cec-b3c1-946c3541c6b6"
      },
      "source": [
        "!ls"
      ],
      "execution_count": 4,
      "outputs": [
        {
          "output_type": "stream",
          "text": [
            "README.md  session3.py\ttest_session3.py\n"
          ],
          "name": "stdout"
        }
      ]
    },
    {
      "cell_type": "code",
      "metadata": {
        "id": "KABNrYf0-WcU",
        "colab_type": "code",
        "colab": {}
      },
      "source": [
        "import pytest\n",
        "import random\n",
        "import string\n",
        "import session3\n",
        "import os\n",
        "import inspect\n",
        "import re\n",
        "import math\n",
        "\n",
        "README_CONTENT_CHECK_FOR = [\n",
        "    'int',\n",
        "    'encoded_from_base10',\n",
        "    'digit_map',\n",
        "    'ValueError',\n",
        "    'math',\n",
        "    'isclose',\n",
        "    'absolute',\n",
        "    'relative',\n",
        "    'tolerance',\n",
        "    'bin(',\n",
        "    'hex(',\n",
        "    'round',\n",
        "    'truncation',\n",
        "    'error',\n",
        "    'equality',\n",
        "    'zero',\n",
        "    'away'\n",
        "]\n",
        "\n",
        "CHECK_FOR_THINGS_NOT_ALLOWED = [\n",
        "    'math',\n",
        "    'isclose',\n",
        "    'bin(',\n",
        "    'hex(',\n",
        "    'round(',\n",
        "    'int(',\n",
        "    '10.4',\n",
        "    '-10.4'\n",
        "    '1.25',\n",
        "    '-1.25',\n",
        "]\n",
        "\n",
        "def test_readme_exists():\n",
        "    assert os.path.isfile(\"README.md\"), \"README.md file missing!\"\n",
        "\n",
        "def test_readme_contents():\n",
        "    readme = open(\"README.md\", \"r\")\n",
        "    readme_words = readme.read().split()\n",
        "    readme.close()\n",
        "    assert len(readme_words) >= 500, \"Make your README.md file interesting! Add atleast 500 words\"\n",
        "\n",
        "def test_readme_proper_description():\n",
        "    READMELOOKSGOOD = True\n",
        "    f = open(\"README.md\", \"r\")\n",
        "    content = f.read()\n",
        "    f.close()\n",
        "    for c in README_CONTENT_CHECK_FOR:\n",
        "        if c not in content:\n",
        "            READMELOOKSGOOD = False\n",
        "            pass\n",
        "    assert READMELOOKSGOOD == True, \"You have not described all the functions/class well in your README.md file\"\n",
        "\n",
        "def test_readme_file_for_formatting():\n",
        "    f = open(\"README.md\", \"r\")\n",
        "    content = f.read()\n",
        "    f.close()\n",
        "    assert content.count(\"#\") >= 10\n",
        "\n",
        "def test_indentations():\n",
        "    ''' Returns pass if used four spaces for each level of syntactically \\\n",
        "    significant indenting.'''\n",
        "    lines = inspect.getsource(session3)\n",
        "    spaces = re.findall('\\n +.', lines)\n",
        "    for space in spaces:\n",
        "        assert len(space) % 4 == 2, \"Your script contains misplaced indentations\"\n",
        "        assert len(re.sub(r'[^ ]', '', space)) % 4 == 0, \"Your code indentation does not follow PEP8 guidelines\" \n",
        "\n",
        "def test_function_name_had_cap_letter():\n",
        "    functions = inspect.getmembers(session3, inspect.isfunction)\n",
        "    for function in functions:\n",
        "        assert len(re.findall('([A-Z])', function[0])) == 0, \"You have used Capital letter(s) in your function names\"\n",
        "\n",
        "def test_invalid_base_valueerror():\n",
        "    with pytest.raises(ValueError):\n",
        "        session3.encoded_from_base10(10, -1, '1234567890')\n",
        "    with pytest.raises(ValueError):\n",
        "        session3.encoded_from_base10(10, 1, '012')\n",
        "    with pytest.raises(ValueError):\n",
        "        session3.encoded_from_base10(10, 37, '1234567890123456789012345678901234567')\n",
        "\n",
        "def test_invalid_base_valueerror_provides_relevant_message():\n",
        "    with pytest.raises(ValueError, match=r\".* base .*\"):\n",
        "        session3.encoded_from_base10(10, -1, '1234567890')\n",
        "\n",
        "def test_innacurate_digit_map_length():\n",
        "    with pytest.raises(ValueError):\n",
        "        session3.encoded_from_base10(123123, 16, '0123456789abcde')\n",
        "\n",
        "    with pytest.raises(ValueError):\n",
        "        session3.encoded_from_base10(123123, 9, '01234567')\n",
        "\n",
        "\n",
        "def test_hexadecimal_conversions():\n",
        "    for _ in range(50):\n",
        "        r_num = random.randint(0, 32767)\n",
        "        assert (session3.encoded_from_base10(r_num, 16, '0123456789abcdef').lower() ) == hex(r_num)[2:], f\"Your program returned wrong HEX conversions\"\n",
        "\n",
        "def test_negative_hexadecimal_conversions():\n",
        "    for _ in range(50):\n",
        "        r_num = random.randint(-32700, -1)\n",
        "        assert (session3.encoded_from_base10(r_num, 16, '0123456789abcdef').lower() ) == '-' + hex(r_num)[3:], f\"Your program returned wrong HEX conversions\"\n",
        "\n",
        "\n",
        "def test_repeating_digits_in_digit_map():\n",
        "    with pytest.raises(ValueError):\n",
        "        session3.encoded_from_base10(10, 10, '0123401234')\n",
        "\n",
        "def test_repeating_digits_valueerror_provides_relevant_message():\n",
        "    with pytest.raises(ValueError, match=r\".* repeating .*\"):\n",
        "        session3.encoded_from_base10(10, 10, '012AB012ab'), 'Something is fishy! You are not using word \"repeating\" while talking about an error releated to \"repeating\" alphanumerics!!'\n",
        "\n",
        "def test_float_equality_testing():\n",
        "    for _ in range(10000):\n",
        "        scale = random.randint(1, 1000000)\n",
        "        a = random.uniform(-1.5, 1.6)\n",
        "        a, b = a * scale, a * scale - a / scale\n",
        "        assert session3.float_equality_testing(a, b) == math.isclose(a, b, rel_tol = 1e-12, abs_tol=1e-05), 'Aap jis number se sampark karna chahte hai, woh is samay uplabdh nahi hai, kripya thodi der baad prayas karein. The numbers you are trying to check right now are not equal, please try again later'\n",
        "\n",
        "def test_things_not_allowed():\n",
        "    code_lines = inspect.getsource(session3)\n",
        "    for word in CHECK_FOR_THINGS_NOT_ALLOWED:\n",
        "        assert word not in code_lines, 'Have you heard of Pinocchio?'\n",
        "\n",
        "def test_fraction_used_or_not():\n",
        "    code_lines = inspect.getsource(session3)\n",
        "    assert 'fractions' in code_lines, 'Fractions not used! You must use fractions'\n",
        "    assert 'import' in code_lines, 'You have not imported fractions!'\n",
        "\n",
        "def test_manual_truncation_function():\n",
        "    for _ in range(100):\n",
        "        f_num = random.uniform(-100, 100)\n",
        "        assert session3.manual_truncation_function(f_num) == math.trunc(f_num), 'Just because you are not able to fix this truncation error, SkyNet is going to rule the earth!'\n",
        "\n",
        "def test_manual_rounding_function():\n",
        "    for f_num in [1.25, 1.35, -1.25, -1.35]:\n",
        "        assert session3.manual_rounding_function(f_num) == round(f_num), 'Terminator after looking at your code: I will be back! He will come back when you fix your rounding errors.'\n",
        "\n",
        "\n",
        "def test_functions_for_zero():\n",
        "    assert session3.float_equality_testing(0.0, 0.0), 'How can zero be not equal to zero?'\n",
        "    assert session3.manual_truncation_function(0.0) == 0, 'Tuncation of 0 should be zero'\n",
        "    assert session3.manual_rounding_function(0.0) == 0, 'Zero can only be rounded off to zero'\n",
        "\n"
      ],
      "execution_count": 5,
      "outputs": []
    },
    {
      "cell_type": "code",
      "metadata": {
        "id": "geo8EwUDxj-e",
        "colab_type": "code",
        "colab": {}
      },
      "source": [
        "test_fraction_used_or_not()"
      ],
      "execution_count": 6,
      "outputs": []
    },
    {
      "cell_type": "code",
      "metadata": {
        "id": "Pnq-J-9u9VQW",
        "colab_type": "code",
        "colab": {}
      },
      "source": [
        "def manual_truncation_function(f_num):\n",
        "    '''\n",
        "    This function emulates python's MATH.TRUNC method. It ignores everything after the decimal point. \n",
        "    It must check whether f_num is of correct type before proceed. You can use inbuilt constructors like int, float, etc\n",
        "    '''\n",
        "    if type(f_num)==int or type(f_num)==float or type(f_num)==bool:\n",
        "      if type(f_num)==int:\n",
        "          f_num=print(f_num)\n",
        "          \n",
        "      elif type(f_num)==float :\n",
        "          \n",
        "          f_num=str(f_num)\n",
        "          #f_num=str(Decimal.from_float(f_num))\n",
        "          k=f_num.split(\".\")\n",
        "          if len(k[1])>15:\n",
        "             f_num=int(k[0])+1\n",
        "          else:\n",
        "              f_num=int(k[0])\n",
        "\n",
        "          \n",
        "          \n",
        "      elif type(f_num)==bool:\n",
        "          if f_num==True:\n",
        "             f_num=print(\"1\")\n",
        "             \n",
        "          else:\n",
        "              f_num=print(\"0\")\n",
        "              \n",
        "\n",
        "    else:\n",
        "       raise TypeError     \n",
        "\n",
        "    return f_num"
      ],
      "execution_count": 24,
      "outputs": []
    },
    {
      "cell_type": "code",
      "metadata": {
        "id": "jJFdQZNn-OSM",
        "colab_type": "code",
        "colab": {
          "base_uri": "https://localhost:8080/",
          "height": 310
        },
        "outputId": "300999f3-3b2f-4956-dd92-5d9bf65acc78"
      },
      "source": [
        "test_manual_truncation_function()"
      ],
      "execution_count": 7,
      "outputs": [
        {
          "output_type": "error",
          "ename": "AssertionError",
          "evalue": "ignored",
          "traceback": [
            "\u001b[0;31m---------------------------------------------------------------------------\u001b[0m",
            "\u001b[0;31mAssertionError\u001b[0m                            Traceback (most recent call last)",
            "\u001b[0;32m<ipython-input-7-0aac4f06b6b4>\u001b[0m in \u001b[0;36m<module>\u001b[0;34m()\u001b[0m\n\u001b[0;32m----> 1\u001b[0;31m \u001b[0mtest_manual_truncation_function\u001b[0m\u001b[0;34m(\u001b[0m\u001b[0;34m)\u001b[0m\u001b[0;34m\u001b[0m\u001b[0;34m\u001b[0m\u001b[0m\n\u001b[0m",
            "\u001b[0;32m<ipython-input-5-f02a75c07654>\u001b[0m in \u001b[0;36mtest_manual_truncation_function\u001b[0;34m()\u001b[0m\n\u001b[1;32m    139\u001b[0m     \u001b[0;32mfor\u001b[0m \u001b[0m_\u001b[0m \u001b[0;32min\u001b[0m \u001b[0mrange\u001b[0m\u001b[0;34m(\u001b[0m\u001b[0;36m100\u001b[0m\u001b[0;34m)\u001b[0m\u001b[0;34m:\u001b[0m\u001b[0;34m\u001b[0m\u001b[0;34m\u001b[0m\u001b[0m\n\u001b[1;32m    140\u001b[0m         \u001b[0mf_num\u001b[0m \u001b[0;34m=\u001b[0m \u001b[0mrandom\u001b[0m\u001b[0;34m.\u001b[0m\u001b[0muniform\u001b[0m\u001b[0;34m(\u001b[0m\u001b[0;34m-\u001b[0m\u001b[0;36m100\u001b[0m\u001b[0;34m,\u001b[0m \u001b[0;36m100\u001b[0m\u001b[0;34m)\u001b[0m\u001b[0;34m\u001b[0m\u001b[0;34m\u001b[0m\u001b[0m\n\u001b[0;32m--> 141\u001b[0;31m         \u001b[0;32massert\u001b[0m \u001b[0msession3\u001b[0m\u001b[0;34m.\u001b[0m\u001b[0mmanual_truncation_function\u001b[0m\u001b[0;34m(\u001b[0m\u001b[0mf_num\u001b[0m\u001b[0;34m)\u001b[0m \u001b[0;34m==\u001b[0m \u001b[0mmath\u001b[0m\u001b[0;34m.\u001b[0m\u001b[0mtrunc\u001b[0m\u001b[0;34m(\u001b[0m\u001b[0mf_num\u001b[0m\u001b[0;34m)\u001b[0m\u001b[0;34m,\u001b[0m \u001b[0;34m'Just because you are not able to fix this truncation error, SkyNet is going to rule the earth!'\u001b[0m\u001b[0;34m\u001b[0m\u001b[0;34m\u001b[0m\u001b[0m\n\u001b[0m\u001b[1;32m    142\u001b[0m \u001b[0;34m\u001b[0m\u001b[0m\n\u001b[1;32m    143\u001b[0m \u001b[0;32mdef\u001b[0m \u001b[0mtest_manual_rounding_function\u001b[0m\u001b[0;34m(\u001b[0m\u001b[0;34m)\u001b[0m\u001b[0;34m:\u001b[0m\u001b[0;34m\u001b[0m\u001b[0;34m\u001b[0m\u001b[0m\n",
            "\u001b[0;31mAssertionError\u001b[0m: Just because you are not able to fix this truncation error, SkyNet is going to rule the earth!"
          ]
        }
      ]
    },
    {
      "cell_type": "code",
      "metadata": {
        "id": "tixyZ5I9EDU7",
        "colab_type": "code",
        "colab": {
          "base_uri": "https://localhost:8080/",
          "height": 52
        },
        "outputId": "19b414e2-e8d1-4549-9365-195dac2257ce"
      },
      "source": [
        "a=100.1234567890123742793985\n",
        "a=str(a)\n",
        "print(a)\n",
        "k=a.split('.')\n",
        "print(k)"
      ],
      "execution_count": 18,
      "outputs": [
        {
          "output_type": "stream",
          "text": [
            "100.12345678901238\n",
            "['100', '12345678901238']\n"
          ],
          "name": "stdout"
        }
      ]
    },
    {
      "cell_type": "code",
      "metadata": {
        "id": "ASrMZRRJc0iS",
        "colab_type": "code",
        "colab": {
          "base_uri": "https://localhost:8080/",
          "height": 1000
        },
        "outputId": "28a96ea2-e7bd-4c51-875d-c53efcf65ddd"
      },
      "source": [
        "help(int)"
      ],
      "execution_count": 29,
      "outputs": [
        {
          "output_type": "stream",
          "text": [
            "Help on class int in module builtins:\n",
            "\n",
            "class int(object)\n",
            " |  int(x=0) -> integer\n",
            " |  int(x, base=10) -> integer\n",
            " |  \n",
            " |  Convert a number or string to an integer, or return 0 if no arguments\n",
            " |  are given.  If x is a number, return x.__int__().  For floating point\n",
            " |  numbers, this truncates towards zero.\n",
            " |  \n",
            " |  If x is not a number or if base is given, then x must be a string,\n",
            " |  bytes, or bytearray instance representing an integer literal in the\n",
            " |  given base.  The literal can be preceded by '+' or '-' and be surrounded\n",
            " |  by whitespace.  The base defaults to 10.  Valid bases are 0 and 2-36.\n",
            " |  Base 0 means to interpret the base from the string as an integer literal.\n",
            " |  >>> int('0b100', base=0)\n",
            " |  4\n",
            " |  \n",
            " |  Methods defined here:\n",
            " |  \n",
            " |  __abs__(self, /)\n",
            " |      abs(self)\n",
            " |  \n",
            " |  __add__(self, value, /)\n",
            " |      Return self+value.\n",
            " |  \n",
            " |  __and__(self, value, /)\n",
            " |      Return self&value.\n",
            " |  \n",
            " |  __bool__(self, /)\n",
            " |      self != 0\n",
            " |  \n",
            " |  __ceil__(...)\n",
            " |      Ceiling of an Integral returns itself.\n",
            " |  \n",
            " |  __divmod__(self, value, /)\n",
            " |      Return divmod(self, value).\n",
            " |  \n",
            " |  __eq__(self, value, /)\n",
            " |      Return self==value.\n",
            " |  \n",
            " |  __float__(self, /)\n",
            " |      float(self)\n",
            " |  \n",
            " |  __floor__(...)\n",
            " |      Flooring an Integral returns itself.\n",
            " |  \n",
            " |  __floordiv__(self, value, /)\n",
            " |      Return self//value.\n",
            " |  \n",
            " |  __format__(...)\n",
            " |      default object formatter\n",
            " |  \n",
            " |  __ge__(self, value, /)\n",
            " |      Return self>=value.\n",
            " |  \n",
            " |  __getattribute__(self, name, /)\n",
            " |      Return getattr(self, name).\n",
            " |  \n",
            " |  __getnewargs__(...)\n",
            " |  \n",
            " |  __gt__(self, value, /)\n",
            " |      Return self>value.\n",
            " |  \n",
            " |  __hash__(self, /)\n",
            " |      Return hash(self).\n",
            " |  \n",
            " |  __index__(self, /)\n",
            " |      Return self converted to an integer, if self is suitable for use as an index into a list.\n",
            " |  \n",
            " |  __int__(self, /)\n",
            " |      int(self)\n",
            " |  \n",
            " |  __invert__(self, /)\n",
            " |      ~self\n",
            " |  \n",
            " |  __le__(self, value, /)\n",
            " |      Return self<=value.\n",
            " |  \n",
            " |  __lshift__(self, value, /)\n",
            " |      Return self<<value.\n",
            " |  \n",
            " |  __lt__(self, value, /)\n",
            " |      Return self<value.\n",
            " |  \n",
            " |  __mod__(self, value, /)\n",
            " |      Return self%value.\n",
            " |  \n",
            " |  __mul__(self, value, /)\n",
            " |      Return self*value.\n",
            " |  \n",
            " |  __ne__(self, value, /)\n",
            " |      Return self!=value.\n",
            " |  \n",
            " |  __neg__(self, /)\n",
            " |      -self\n",
            " |  \n",
            " |  __new__(*args, **kwargs) from builtins.type\n",
            " |      Create and return a new object.  See help(type) for accurate signature.\n",
            " |  \n",
            " |  __or__(self, value, /)\n",
            " |      Return self|value.\n",
            " |  \n",
            " |  __pos__(self, /)\n",
            " |      +self\n",
            " |  \n",
            " |  __pow__(self, value, mod=None, /)\n",
            " |      Return pow(self, value, mod).\n",
            " |  \n",
            " |  __radd__(self, value, /)\n",
            " |      Return value+self.\n",
            " |  \n",
            " |  __rand__(self, value, /)\n",
            " |      Return value&self.\n",
            " |  \n",
            " |  __rdivmod__(self, value, /)\n",
            " |      Return divmod(value, self).\n",
            " |  \n",
            " |  __repr__(self, /)\n",
            " |      Return repr(self).\n",
            " |  \n",
            " |  __rfloordiv__(self, value, /)\n",
            " |      Return value//self.\n",
            " |  \n",
            " |  __rlshift__(self, value, /)\n",
            " |      Return value<<self.\n",
            " |  \n",
            " |  __rmod__(self, value, /)\n",
            " |      Return value%self.\n",
            " |  \n",
            " |  __rmul__(self, value, /)\n",
            " |      Return value*self.\n",
            " |  \n",
            " |  __ror__(self, value, /)\n",
            " |      Return value|self.\n",
            " |  \n",
            " |  __round__(...)\n",
            " |      Rounding an Integral returns itself.\n",
            " |      Rounding with an ndigits argument also returns an integer.\n",
            " |  \n",
            " |  __rpow__(self, value, mod=None, /)\n",
            " |      Return pow(value, self, mod).\n",
            " |  \n",
            " |  __rrshift__(self, value, /)\n",
            " |      Return value>>self.\n",
            " |  \n",
            " |  __rshift__(self, value, /)\n",
            " |      Return self>>value.\n",
            " |  \n",
            " |  __rsub__(self, value, /)\n",
            " |      Return value-self.\n",
            " |  \n",
            " |  __rtruediv__(self, value, /)\n",
            " |      Return value/self.\n",
            " |  \n",
            " |  __rxor__(self, value, /)\n",
            " |      Return value^self.\n",
            " |  \n",
            " |  __sizeof__(...)\n",
            " |      Returns size in memory, in bytes\n",
            " |  \n",
            " |  __str__(self, /)\n",
            " |      Return str(self).\n",
            " |  \n",
            " |  __sub__(self, value, /)\n",
            " |      Return self-value.\n",
            " |  \n",
            " |  __truediv__(self, value, /)\n",
            " |      Return self/value.\n",
            " |  \n",
            " |  __trunc__(...)\n",
            " |      Truncating an Integral returns itself.\n",
            " |  \n",
            " |  __xor__(self, value, /)\n",
            " |      Return self^value.\n",
            " |  \n",
            " |  bit_length(...)\n",
            " |      int.bit_length() -> int\n",
            " |      \n",
            " |      Number of bits necessary to represent self in binary.\n",
            " |      >>> bin(37)\n",
            " |      '0b100101'\n",
            " |      >>> (37).bit_length()\n",
            " |      6\n",
            " |  \n",
            " |  conjugate(...)\n",
            " |      Returns self, the complex conjugate of any int.\n",
            " |  \n",
            " |  from_bytes(...) from builtins.type\n",
            " |      int.from_bytes(bytes, byteorder, *, signed=False) -> int\n",
            " |      \n",
            " |      Return the integer represented by the given array of bytes.\n",
            " |      \n",
            " |      The bytes argument must be a bytes-like object (e.g. bytes or bytearray).\n",
            " |      \n",
            " |      The byteorder argument determines the byte order used to represent the\n",
            " |      integer.  If byteorder is 'big', the most significant byte is at the\n",
            " |      beginning of the byte array.  If byteorder is 'little', the most\n",
            " |      significant byte is at the end of the byte array.  To request the native\n",
            " |      byte order of the host system, use `sys.byteorder' as the byte order value.\n",
            " |      \n",
            " |      The signed keyword-only argument indicates whether two's complement is\n",
            " |      used to represent the integer.\n",
            " |  \n",
            " |  to_bytes(...)\n",
            " |      int.to_bytes(length, byteorder, *, signed=False) -> bytes\n",
            " |      \n",
            " |      Return an array of bytes representing an integer.\n",
            " |      \n",
            " |      The integer is represented using length bytes.  An OverflowError is\n",
            " |      raised if the integer is not representable with the given number of\n",
            " |      bytes.\n",
            " |      \n",
            " |      The byteorder argument determines the byte order used to represent the\n",
            " |      integer.  If byteorder is 'big', the most significant byte is at the\n",
            " |      beginning of the byte array.  If byteorder is 'little', the most\n",
            " |      significant byte is at the end of the byte array.  To request the native\n",
            " |      byte order of the host system, use `sys.byteorder' as the byte order value.\n",
            " |      \n",
            " |      The signed keyword-only argument determines whether two's complement is\n",
            " |      used to represent the integer.  If signed is False and a negative integer\n",
            " |      is given, an OverflowError is raised.\n",
            " |  \n",
            " |  ----------------------------------------------------------------------\n",
            " |  Data descriptors defined here:\n",
            " |  \n",
            " |  denominator\n",
            " |      the denominator of a rational number in lowest terms\n",
            " |  \n",
            " |  imag\n",
            " |      the imaginary part of a complex number\n",
            " |  \n",
            " |  numerator\n",
            " |      the numerator of a rational number in lowest terms\n",
            " |  \n",
            " |  real\n",
            " |      the real part of a complex number\n",
            "\n"
          ],
          "name": "stdout"
        }
      ]
    },
    {
      "cell_type": "code",
      "metadata": {
        "id": "FXOAjurztLg9",
        "colab_type": "code",
        "colab": {}
      },
      "source": [
        "test_invalid_base_valueerror()"
      ],
      "execution_count": 7,
      "outputs": []
    },
    {
      "cell_type": "code",
      "metadata": {
        "id": "cZPHozlR_PQ7",
        "colab_type": "code",
        "colab": {}
      },
      "source": [
        "test_innacurate_digit_map_length()"
      ],
      "execution_count": 8,
      "outputs": []
    },
    {
      "cell_type": "code",
      "metadata": {
        "id": "dvXOnJdMDgPw",
        "colab_type": "code",
        "colab": {}
      },
      "source": [
        "test_invalid_base_valueerror_provides_relevant_message()"
      ],
      "execution_count": 9,
      "outputs": []
    },
    {
      "cell_type": "code",
      "metadata": {
        "id": "9ahhyVH4DqvJ",
        "colab_type": "code",
        "colab": {}
      },
      "source": [
        "test_repeating_digits_in_digit_map()"
      ],
      "execution_count": 10,
      "outputs": []
    },
    {
      "cell_type": "code",
      "metadata": {
        "id": "2OjGWG5zDwkp",
        "colab_type": "code",
        "colab": {}
      },
      "source": [
        "test_hexadecimal_conversions()"
      ],
      "execution_count": 11,
      "outputs": []
    },
    {
      "cell_type": "code",
      "metadata": {
        "id": "HGugA40tD5em",
        "colab_type": "code",
        "colab": {}
      },
      "source": [
        "test_function_name_had_cap_letter()"
      ],
      "execution_count": 12,
      "outputs": []
    },
    {
      "cell_type": "code",
      "metadata": {
        "id": "XRLydOM2FJID",
        "colab_type": "code",
        "colab": {}
      },
      "source": [
        "test_repeating_digits_valueerror_provides_relevant_message()"
      ],
      "execution_count": 13,
      "outputs": []
    },
    {
      "cell_type": "code",
      "metadata": {
        "id": "tek5STkFPWii",
        "colab_type": "code",
        "colab": {
          "base_uri": "https://localhost:8080/",
          "height": 34
        },
        "outputId": "f4307408-3b48-480b-e742-97c0d415d572"
      },
      "source": [
        "math.isclose(1.84, 1.25, rel_tol = 1e-12, abs_tol=1e-05)"
      ],
      "execution_count": 13,
      "outputs": [
        {
          "output_type": "execute_result",
          "data": {
            "text/plain": [
              "False"
            ]
          },
          "metadata": {
            "tags": []
          },
          "execution_count": 13
        }
      ]
    },
    {
      "cell_type": "code",
      "metadata": {
        "id": "oWgdMHR3c7KN",
        "colab_type": "code",
        "colab": {
          "base_uri": "https://localhost:8080/",
          "height": 34
        },
        "outputId": "cbd00495-6f58-4f7e-c61a-9eca9e4d7743"
      },
      "source": [
        "abs(a-b)"
      ],
      "execution_count": 27,
      "outputs": [
        {
          "output_type": "execute_result",
          "data": {
            "text/plain": [
              "2"
            ]
          },
          "metadata": {
            "tags": []
          },
          "execution_count": 27
        }
      ]
    },
    {
      "cell_type": "code",
      "metadata": {
        "id": "zbFslh7cdbFV",
        "colab_type": "code",
        "colab": {}
      },
      "source": [
        "test_float_equality_testing()"
      ],
      "execution_count": 14,
      "outputs": []
    },
    {
      "cell_type": "code",
      "metadata": {
        "id": "_5rd7sahiZHA",
        "colab_type": "code",
        "colab": {}
      },
      "source": [
        "test_manual_truncation_function()"
      ],
      "execution_count": 15,
      "outputs": []
    },
    {
      "cell_type": "code",
      "metadata": {
        "id": "A7kuNdc9igLl",
        "colab_type": "code",
        "colab": {}
      },
      "source": [
        "test_manual_rounding_function()"
      ],
      "execution_count": 16,
      "outputs": []
    },
    {
      "cell_type": "code",
      "metadata": {
        "id": "SBH6T-vVjUDy",
        "colab_type": "code",
        "colab": {}
      },
      "source": [
        "test_functions_for_zero()"
      ],
      "execution_count": 17,
      "outputs": []
    },
    {
      "cell_type": "code",
      "metadata": {
        "id": "QFtyLrUJjZrd",
        "colab_type": "code",
        "colab": {}
      },
      "source": [
        "test_things_not_allowed()"
      ],
      "execution_count": 18,
      "outputs": []
    },
    {
      "cell_type": "code",
      "metadata": {
        "id": "RKCvguhXkgBx",
        "colab_type": "code",
        "colab": {
          "base_uri": "https://localhost:8080/",
          "height": 35
        },
        "outputId": "6148ca2f-2797-4b22-d927-376b7891fd6a"
      },
      "source": [
        "hex(34)"
      ],
      "execution_count": 21,
      "outputs": [
        {
          "output_type": "execute_result",
          "data": {
            "application/vnd.google.colaboratory.intrinsic+json": {
              "type": "string"
            },
            "text/plain": [
              "'0x22'"
            ]
          },
          "metadata": {
            "tags": []
          },
          "execution_count": 21
        }
      ]
    },
    {
      "cell_type": "code",
      "metadata": {
        "id": "EO7Gbd-5k0XZ",
        "colab_type": "code",
        "colab": {
          "base_uri": "https://localhost:8080/",
          "height": 35
        },
        "outputId": "3304374d-ca46-4a55-ece2-41c5a912892c"
      },
      "source": [
        "hex(-34)"
      ],
      "execution_count": 22,
      "outputs": [
        {
          "output_type": "execute_result",
          "data": {
            "application/vnd.google.colaboratory.intrinsic+json": {
              "type": "string"
            },
            "text/plain": [
              "'-0x22'"
            ]
          },
          "metadata": {
            "tags": []
          },
          "execution_count": 22
        }
      ]
    },
    {
      "cell_type": "code",
      "metadata": {
        "id": "JKJmLUBlk4Mt",
        "colab_type": "code",
        "colab": {}
      },
      "source": [
        "a=0x22"
      ],
      "execution_count": 6,
      "outputs": []
    },
    {
      "cell_type": "code",
      "metadata": {
        "id": "xm6m0EREnLEn",
        "colab_type": "code",
        "colab": {}
      },
      "source": [
        "r='0x34'"
      ],
      "execution_count": 25,
      "outputs": []
    },
    {
      "cell_type": "code",
      "metadata": {
        "id": "Rcw_niD_nMiE",
        "colab_type": "code",
        "colab": {}
      },
      "source": [
        "r=(-1)*r"
      ],
      "execution_count": 20,
      "outputs": []
    },
    {
      "cell_type": "code",
      "metadata": {
        "id": "rrc2ASDJnhPq",
        "colab_type": "code",
        "colab": {
          "base_uri": "https://localhost:8080/",
          "height": 35
        },
        "outputId": "7912b400-8b90-4e5e-ae5c-4dec37cf7ec0"
      },
      "source": [
        "r"
      ],
      "execution_count": 21,
      "outputs": [
        {
          "output_type": "execute_result",
          "data": {
            "application/vnd.google.colaboratory.intrinsic+json": {
              "type": "string"
            },
            "text/plain": [
              "''"
            ]
          },
          "metadata": {
            "tags": []
          },
          "execution_count": 21
        }
      ]
    },
    {
      "cell_type": "code",
      "metadata": {
        "id": "B9GyBrZhniO1",
        "colab_type": "code",
        "colab": {}
      },
      "source": [
        "r='-'+r"
      ],
      "execution_count": 26,
      "outputs": []
    },
    {
      "cell_type": "code",
      "metadata": {
        "id": "5YzPEX0kogdh",
        "colab_type": "code",
        "colab": {
          "base_uri": "https://localhost:8080/",
          "height": 35
        },
        "outputId": "0517234f-a77f-49a0-9375-264019df7c9f"
      },
      "source": [
        "r"
      ],
      "execution_count": 27,
      "outputs": [
        {
          "output_type": "execute_result",
          "data": {
            "application/vnd.google.colaboratory.intrinsic+json": {
              "type": "string"
            },
            "text/plain": [
              "'-0x34'"
            ]
          },
          "metadata": {
            "tags": []
          },
          "execution_count": 27
        }
      ]
    },
    {
      "cell_type": "code",
      "metadata": {
        "id": "1iEUGJi1orBD",
        "colab_type": "code",
        "colab": {}
      },
      "source": [
        "test_negative_hexadecimal_conversions()"
      ],
      "execution_count": 19,
      "outputs": []
    },
    {
      "cell_type": "code",
      "metadata": {
        "id": "481Ky3OHphuY",
        "colab_type": "code",
        "colab": {}
      },
      "source": [
        "test_readme_exists()"
      ],
      "execution_count": 20,
      "outputs": []
    },
    {
      "cell_type": "code",
      "metadata": {
        "id": "Xt04scsDUC9x",
        "colab_type": "code",
        "colab": {
          "base_uri": "https://localhost:8080/",
          "height": 176
        },
        "outputId": "76b1d005-aef8-41b7-b0e2-64f8c63621a0"
      },
      "source": [
        "!python -m pytest test_session3.py"
      ],
      "execution_count": 6,
      "outputs": [
        {
          "output_type": "stream",
          "text": [
            "\u001b[1m============================= test session starts ==============================\u001b[0m\n",
            "platform linux -- Python 3.6.9, pytest-3.6.4, py-1.9.0, pluggy-0.7.1\n",
            "rootdir: /content/S/S3, inifile:\n",
            "plugins: typeguard-2.7.1\n",
            "\u001b[1m\rcollecting 0 items                                                             \u001b[0m\u001b[1m\rcollecting 19 items                                                            \u001b[0m\u001b[1m\rcollected 19 items                                                             \u001b[0m\n",
            "\n",
            "test_session3.py ...................\u001b[36m                                     [100%]\u001b[0m\n",
            "\n",
            "\u001b[32m\u001b[1m========================== 19 passed in 0.08 seconds ===========================\u001b[0m\n"
          ],
          "name": "stdout"
        }
      ]
    },
    {
      "cell_type": "code",
      "metadata": {
        "id": "tYrLBTofWSHg",
        "colab_type": "code",
        "colab": {}
      },
      "source": [
        ""
      ],
      "execution_count": null,
      "outputs": []
    }
  ]
}